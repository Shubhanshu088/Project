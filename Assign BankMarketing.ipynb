{
 "cells": [
  {
   "cell_type": "markdown",
   "id": "3811dc0f",
   "metadata": {},
   "source": [
    "# Find the Accuracy difference between Random Forest model and svm model"
   ]
  },
  {
   "cell_type": "code",
   "execution_count": 1,
   "id": "6aa85d1f",
   "metadata": {},
   "outputs": [],
   "source": [
    "import pandas as pd\n",
    "import numpy as np\n",
    "import matplotlib.pyplot as plt\n",
    "import seaborn as sn\n"
   ]
  },
  {
   "cell_type": "code",
   "execution_count": null,
   "id": "719d9ecd",
   "metadata": {},
   "outputs": [],
   "source": []
  },
  {
   "cell_type": "code",
   "execution_count": 2,
   "id": "fd14466a",
   "metadata": {},
   "outputs": [],
   "source": [
    "data=pd.read_excel(r'D:\\Data_Analysis\\Machine Learning\\assign\\BankMarketing.xlsx')"
   ]
  },
  {
   "cell_type": "code",
   "execution_count": 3,
   "id": "e520b9a9",
   "metadata": {},
   "outputs": [
    {
     "data": {
      "text/html": [
       "<div>\n",
       "<style scoped>\n",
       "    .dataframe tbody tr th:only-of-type {\n",
       "        vertical-align: middle;\n",
       "    }\n",
       "\n",
       "    .dataframe tbody tr th {\n",
       "        vertical-align: top;\n",
       "    }\n",
       "\n",
       "    .dataframe thead th {\n",
       "        text-align: right;\n",
       "    }\n",
       "</style>\n",
       "<table border=\"1\" class=\"dataframe\">\n",
       "  <thead>\n",
       "    <tr style=\"text-align: right;\">\n",
       "      <th></th>\n",
       "      <th>Age</th>\n",
       "      <th>Job</th>\n",
       "      <th>Marital Status</th>\n",
       "      <th>Account Balance</th>\n",
       "      <th>Own House</th>\n",
       "      <th>Personal Loan</th>\n",
       "      <th>No of campaigns</th>\n",
       "      <th>Subscription</th>\n",
       "    </tr>\n",
       "  </thead>\n",
       "  <tbody>\n",
       "    <tr>\n",
       "      <th>0</th>\n",
       "      <td>59</td>\n",
       "      <td>unemployed</td>\n",
       "      <td>married</td>\n",
       "      <td>0</td>\n",
       "      <td>0</td>\n",
       "      <td>0</td>\n",
       "      <td>0</td>\n",
       "      <td>0</td>\n",
       "    </tr>\n",
       "    <tr>\n",
       "      <th>1</th>\n",
       "      <td>36</td>\n",
       "      <td>Others</td>\n",
       "      <td>married</td>\n",
       "      <td>3057</td>\n",
       "      <td>0</td>\n",
       "      <td>0</td>\n",
       "      <td>0</td>\n",
       "      <td>1</td>\n",
       "    </tr>\n",
       "    <tr>\n",
       "      <th>2</th>\n",
       "      <td>47</td>\n",
       "      <td>blue-collar</td>\n",
       "      <td>divorced</td>\n",
       "      <td>126</td>\n",
       "      <td>1</td>\n",
       "      <td>0</td>\n",
       "      <td>0</td>\n",
       "      <td>1</td>\n",
       "    </tr>\n",
       "    <tr>\n",
       "      <th>3</th>\n",
       "      <td>43</td>\n",
       "      <td>management</td>\n",
       "      <td>divorced</td>\n",
       "      <td>388</td>\n",
       "      <td>1</td>\n",
       "      <td>0</td>\n",
       "      <td>0</td>\n",
       "      <td>1</td>\n",
       "    </tr>\n",
       "    <tr>\n",
       "      <th>4</th>\n",
       "      <td>34</td>\n",
       "      <td>self-employed</td>\n",
       "      <td>single</td>\n",
       "      <td>462</td>\n",
       "      <td>0</td>\n",
       "      <td>0</td>\n",
       "      <td>0</td>\n",
       "      <td>1</td>\n",
       "    </tr>\n",
       "  </tbody>\n",
       "</table>\n",
       "</div>"
      ],
      "text/plain": [
       "   Age            Job Marital Status  Account Balance  Own House  \\\n",
       "0   59     unemployed        married                0          0   \n",
       "1   36         Others        married             3057          0   \n",
       "2   47    blue-collar       divorced              126          1   \n",
       "3   43     management       divorced              388          1   \n",
       "4   34  self-employed         single              462          0   \n",
       "\n",
       "   Personal Loan  No of campaigns  Subscription  \n",
       "0              0                0             0  \n",
       "1              0                0             1  \n",
       "2              0                0             1  \n",
       "3              0                0             1  \n",
       "4              0                0             1  "
      ]
     },
     "execution_count": 3,
     "metadata": {},
     "output_type": "execute_result"
    }
   ],
   "source": [
    "data.head()"
   ]
  },
  {
   "cell_type": "code",
   "execution_count": 4,
   "id": "aff5ae5e",
   "metadata": {},
   "outputs": [
    {
     "data": {
      "text/plain": [
       "Age                0\n",
       "Job                0\n",
       "Marital Status     0\n",
       "Account Balance    0\n",
       "Own House          0\n",
       "Personal Loan      0\n",
       "No of campaigns    0\n",
       "Subscription       0\n",
       "dtype: int64"
      ]
     },
     "execution_count": 4,
     "metadata": {},
     "output_type": "execute_result"
    }
   ],
   "source": [
    "data.isnull().sum()"
   ]
  },
  {
   "cell_type": "code",
   "execution_count": 5,
   "id": "cd23f780",
   "metadata": {},
   "outputs": [],
   "source": [
    "data=pd.get_dummies(data,columns=['Job'])\n",
    "data=pd.get_dummies(data,columns=['Marital Status'])"
   ]
  },
  {
   "cell_type": "code",
   "execution_count": 6,
   "id": "ef185e83",
   "metadata": {},
   "outputs": [
    {
     "data": {
      "text/html": [
       "<div>\n",
       "<style scoped>\n",
       "    .dataframe tbody tr th:only-of-type {\n",
       "        vertical-align: middle;\n",
       "    }\n",
       "\n",
       "    .dataframe tbody tr th {\n",
       "        vertical-align: top;\n",
       "    }\n",
       "\n",
       "    .dataframe thead th {\n",
       "        text-align: right;\n",
       "    }\n",
       "</style>\n",
       "<table border=\"1\" class=\"dataframe\">\n",
       "  <thead>\n",
       "    <tr style=\"text-align: right;\">\n",
       "      <th></th>\n",
       "      <th>Age</th>\n",
       "      <th>Account Balance</th>\n",
       "      <th>Own House</th>\n",
       "      <th>Personal Loan</th>\n",
       "      <th>No of campaigns</th>\n",
       "      <th>Subscription</th>\n",
       "      <th>Job_Others</th>\n",
       "      <th>Job_blue-collar</th>\n",
       "      <th>Job_management</th>\n",
       "      <th>Job_self-employed</th>\n",
       "      <th>Job_unemployed</th>\n",
       "      <th>Marital Status_divorced</th>\n",
       "      <th>Marital Status_married</th>\n",
       "      <th>Marital Status_single</th>\n",
       "    </tr>\n",
       "  </thead>\n",
       "  <tbody>\n",
       "    <tr>\n",
       "      <th>0</th>\n",
       "      <td>59</td>\n",
       "      <td>0</td>\n",
       "      <td>0</td>\n",
       "      <td>0</td>\n",
       "      <td>0</td>\n",
       "      <td>0</td>\n",
       "      <td>0</td>\n",
       "      <td>0</td>\n",
       "      <td>0</td>\n",
       "      <td>0</td>\n",
       "      <td>1</td>\n",
       "      <td>0</td>\n",
       "      <td>1</td>\n",
       "      <td>0</td>\n",
       "    </tr>\n",
       "    <tr>\n",
       "      <th>1</th>\n",
       "      <td>36</td>\n",
       "      <td>3057</td>\n",
       "      <td>0</td>\n",
       "      <td>0</td>\n",
       "      <td>0</td>\n",
       "      <td>1</td>\n",
       "      <td>1</td>\n",
       "      <td>0</td>\n",
       "      <td>0</td>\n",
       "      <td>0</td>\n",
       "      <td>0</td>\n",
       "      <td>0</td>\n",
       "      <td>1</td>\n",
       "      <td>0</td>\n",
       "    </tr>\n",
       "    <tr>\n",
       "      <th>2</th>\n",
       "      <td>47</td>\n",
       "      <td>126</td>\n",
       "      <td>1</td>\n",
       "      <td>0</td>\n",
       "      <td>0</td>\n",
       "      <td>1</td>\n",
       "      <td>0</td>\n",
       "      <td>1</td>\n",
       "      <td>0</td>\n",
       "      <td>0</td>\n",
       "      <td>0</td>\n",
       "      <td>1</td>\n",
       "      <td>0</td>\n",
       "      <td>0</td>\n",
       "    </tr>\n",
       "    <tr>\n",
       "      <th>3</th>\n",
       "      <td>43</td>\n",
       "      <td>388</td>\n",
       "      <td>1</td>\n",
       "      <td>0</td>\n",
       "      <td>0</td>\n",
       "      <td>1</td>\n",
       "      <td>0</td>\n",
       "      <td>0</td>\n",
       "      <td>1</td>\n",
       "      <td>0</td>\n",
       "      <td>0</td>\n",
       "      <td>1</td>\n",
       "      <td>0</td>\n",
       "      <td>0</td>\n",
       "    </tr>\n",
       "    <tr>\n",
       "      <th>4</th>\n",
       "      <td>34</td>\n",
       "      <td>462</td>\n",
       "      <td>0</td>\n",
       "      <td>0</td>\n",
       "      <td>0</td>\n",
       "      <td>1</td>\n",
       "      <td>0</td>\n",
       "      <td>0</td>\n",
       "      <td>0</td>\n",
       "      <td>1</td>\n",
       "      <td>0</td>\n",
       "      <td>0</td>\n",
       "      <td>0</td>\n",
       "      <td>1</td>\n",
       "    </tr>\n",
       "  </tbody>\n",
       "</table>\n",
       "</div>"
      ],
      "text/plain": [
       "   Age  Account Balance  Own House  Personal Loan  No of campaigns  \\\n",
       "0   59                0          0              0                0   \n",
       "1   36             3057          0              0                0   \n",
       "2   47              126          1              0                0   \n",
       "3   43              388          1              0                0   \n",
       "4   34              462          0              0                0   \n",
       "\n",
       "   Subscription  Job_Others  Job_blue-collar  Job_management  \\\n",
       "0             0           0                0               0   \n",
       "1             1           1                0               0   \n",
       "2             1           0                1               0   \n",
       "3             1           0                0               1   \n",
       "4             1           0                0               0   \n",
       "\n",
       "   Job_self-employed  Job_unemployed  Marital Status_divorced  \\\n",
       "0                  0               1                        0   \n",
       "1                  0               0                        0   \n",
       "2                  0               0                        1   \n",
       "3                  0               0                        1   \n",
       "4                  1               0                        0   \n",
       "\n",
       "   Marital Status_married  Marital Status_single  \n",
       "0                       1                      0  \n",
       "1                       1                      0  \n",
       "2                       0                      0  \n",
       "3                       0                      0  \n",
       "4                       0                      1  "
      ]
     },
     "execution_count": 6,
     "metadata": {},
     "output_type": "execute_result"
    }
   ],
   "source": [
    "data.head()"
   ]
  },
  {
   "cell_type": "code",
   "execution_count": 7,
   "id": "fd86ac16",
   "metadata": {},
   "outputs": [],
   "source": [
    "y=data[['Subscription']]\n",
    "x=data.drop(columns=['Subscription'])"
   ]
  },
  {
   "cell_type": "code",
   "execution_count": 8,
   "id": "e70151aa",
   "metadata": {},
   "outputs": [],
   "source": [
    "from sklearn.model_selection import train_test_split\n",
    "x_train,x_test,y_train,y_test=train_test_split(x,y,train_size=0.85)"
   ]
  },
  {
   "cell_type": "code",
   "execution_count": 9,
   "id": "84d66649",
   "metadata": {},
   "outputs": [
    {
     "name": "stderr",
     "output_type": "stream",
     "text": [
      "C:\\Users\\Maddy\\AppData\\Local\\Temp/ipykernel_10960/49039710.py:3: DataConversionWarning: A column-vector y was passed when a 1d array was expected. Please change the shape of y to (n_samples,), for example using ravel().\n",
      "  rf=model.fit(x_train,y_train)\n"
     ]
    }
   ],
   "source": [
    "from sklearn.ensemble import RandomForestClassifier\n",
    "model=RandomForestClassifier(n_estimators=1000,random_state=4321)\n",
    "rf=model.fit(x_train,y_train)\n"
   ]
  },
  {
   "cell_type": "code",
   "execution_count": 10,
   "id": "9de0f805",
   "metadata": {},
   "outputs": [],
   "source": [
    "y_test['Predicted']=model.predict(x_test)"
   ]
  },
  {
   "cell_type": "code",
   "execution_count": 11,
   "id": "798b004b",
   "metadata": {},
   "outputs": [
    {
     "data": {
      "text/html": [
       "<div>\n",
       "<style scoped>\n",
       "    .dataframe tbody tr th:only-of-type {\n",
       "        vertical-align: middle;\n",
       "    }\n",
       "\n",
       "    .dataframe tbody tr th {\n",
       "        vertical-align: top;\n",
       "    }\n",
       "\n",
       "    .dataframe thead th {\n",
       "        text-align: right;\n",
       "    }\n",
       "</style>\n",
       "<table border=\"1\" class=\"dataframe\">\n",
       "  <thead>\n",
       "    <tr style=\"text-align: right;\">\n",
       "      <th></th>\n",
       "      <th>Subscription</th>\n",
       "      <th>Predicted</th>\n",
       "    </tr>\n",
       "  </thead>\n",
       "  <tbody>\n",
       "    <tr>\n",
       "      <th>1805</th>\n",
       "      <td>0</td>\n",
       "      <td>0</td>\n",
       "    </tr>\n",
       "    <tr>\n",
       "      <th>3826</th>\n",
       "      <td>0</td>\n",
       "      <td>0</td>\n",
       "    </tr>\n",
       "    <tr>\n",
       "      <th>180</th>\n",
       "      <td>1</td>\n",
       "      <td>0</td>\n",
       "    </tr>\n",
       "    <tr>\n",
       "      <th>2142</th>\n",
       "      <td>0</td>\n",
       "      <td>0</td>\n",
       "    </tr>\n",
       "    <tr>\n",
       "      <th>3406</th>\n",
       "      <td>0</td>\n",
       "      <td>0</td>\n",
       "    </tr>\n",
       "  </tbody>\n",
       "</table>\n",
       "</div>"
      ],
      "text/plain": [
       "      Subscription  Predicted\n",
       "1805             0          0\n",
       "3826             0          0\n",
       "180              1          0\n",
       "2142             0          0\n",
       "3406             0          0"
      ]
     },
     "execution_count": 11,
     "metadata": {},
     "output_type": "execute_result"
    }
   ],
   "source": [
    "y_test.head()"
   ]
  },
  {
   "cell_type": "code",
   "execution_count": 12,
   "id": "f8b72aee",
   "metadata": {},
   "outputs": [
    {
     "name": "stdout",
     "output_type": "stream",
     "text": [
      "the accuracy of model by random forest 0.865979381443299\n"
     ]
    }
   ],
   "source": [
    "from sklearn.metrics import accuracy_score\n",
    "print('the accuracy of model by random forest',accuracy_score(y_test['Subscription'],y_test['Predicted']))"
   ]
  },
  {
   "cell_type": "code",
   "execution_count": 13,
   "id": "f9f634f2",
   "metadata": {},
   "outputs": [
    {
     "data": {
      "text/plain": [
       "Account Balance            0.474751\n",
       "Age                        0.303608\n",
       "No of campaigns            0.095638\n",
       "Own House                  0.028138\n",
       "Personal Loan              0.017418\n",
       "Job_Others                 0.013414\n",
       "Job_management             0.013182\n",
       "Marital Status_married     0.012520\n",
       "Job_blue-collar            0.010710\n",
       "Marital Status_divorced    0.009958\n",
       "Marital Status_single      0.009524\n",
       "Job_self-employed          0.006367\n",
       "Job_unemployed             0.004773\n",
       "dtype: float64"
      ]
     },
     "execution_count": 13,
     "metadata": {},
     "output_type": "execute_result"
    }
   ],
   "source": [
    "forest_importance=pd.Series(model.feature_importances_,index=x.columns)\n",
    "forest_importance.sort_values(ascending=False)"
   ]
  },
  {
   "cell_type": "code",
   "execution_count": 14,
   "id": "b0044be0",
   "metadata": {},
   "outputs": [],
   "source": [
    "## the top 4 factors are age, account balance,No of campaigns and Own House \n",
    "## After analysing our data and their outcomes it is showing that account balance matter a lot and age also "
   ]
  },
  {
   "cell_type": "code",
   "execution_count": 15,
   "id": "19dc5414",
   "metadata": {},
   "outputs": [],
   "source": [
    "## let`s make SVM model \n",
    "Y=data[['Subscription']]\n",
    "X=data.drop(columns=['Subscription'])\n",
    "X_train,X_test,Y_train,Y_test=train_test_split(X,Y,train_size=0.85)"
   ]
  },
  {
   "cell_type": "code",
   "execution_count": 16,
   "id": "288450dd",
   "metadata": {},
   "outputs": [
    {
     "name": "stderr",
     "output_type": "stream",
     "text": [
      "C:\\Users\\Maddy\\anaconda3\\lib\\site-packages\\sklearn\\utils\\validation.py:993: DataConversionWarning: A column-vector y was passed when a 1d array was expected. Please change the shape of y to (n_samples, ), for example using ravel().\n",
      "  y = column_or_1d(y, warn=True)\n"
     ]
    }
   ],
   "source": [
    "from  sklearn.svm import SVC\n",
    "model=SVC(random_state=4321)\n",
    "svc_model=model.fit(X_train,Y_train)"
   ]
  },
  {
   "cell_type": "code",
   "execution_count": 17,
   "id": "a9b9c9ab",
   "metadata": {},
   "outputs": [],
   "source": [
    "Y_test['Predicted']=model.predict(X_test)"
   ]
  },
  {
   "cell_type": "code",
   "execution_count": 18,
   "id": "8192e226",
   "metadata": {},
   "outputs": [
    {
     "data": {
      "text/html": [
       "<div>\n",
       "<style scoped>\n",
       "    .dataframe tbody tr th:only-of-type {\n",
       "        vertical-align: middle;\n",
       "    }\n",
       "\n",
       "    .dataframe tbody tr th {\n",
       "        vertical-align: top;\n",
       "    }\n",
       "\n",
       "    .dataframe thead th {\n",
       "        text-align: right;\n",
       "    }\n",
       "</style>\n",
       "<table border=\"1\" class=\"dataframe\">\n",
       "  <thead>\n",
       "    <tr style=\"text-align: right;\">\n",
       "      <th></th>\n",
       "      <th>Subscription</th>\n",
       "      <th>Predicted</th>\n",
       "    </tr>\n",
       "  </thead>\n",
       "  <tbody>\n",
       "    <tr>\n",
       "      <th>891</th>\n",
       "      <td>0</td>\n",
       "      <td>0</td>\n",
       "    </tr>\n",
       "    <tr>\n",
       "      <th>856</th>\n",
       "      <td>0</td>\n",
       "      <td>0</td>\n",
       "    </tr>\n",
       "    <tr>\n",
       "      <th>4332</th>\n",
       "      <td>0</td>\n",
       "      <td>0</td>\n",
       "    </tr>\n",
       "    <tr>\n",
       "      <th>4336</th>\n",
       "      <td>0</td>\n",
       "      <td>0</td>\n",
       "    </tr>\n",
       "    <tr>\n",
       "      <th>1346</th>\n",
       "      <td>0</td>\n",
       "      <td>0</td>\n",
       "    </tr>\n",
       "  </tbody>\n",
       "</table>\n",
       "</div>"
      ],
      "text/plain": [
       "      Subscription  Predicted\n",
       "891              0          0\n",
       "856              0          0\n",
       "4332             0          0\n",
       "4336             0          0\n",
       "1346             0          0"
      ]
     },
     "execution_count": 18,
     "metadata": {},
     "output_type": "execute_result"
    }
   ],
   "source": [
    "Y_test.head()"
   ]
  },
  {
   "cell_type": "code",
   "execution_count": 19,
   "id": "d41ef012",
   "metadata": {},
   "outputs": [
    {
     "name": "stdout",
     "output_type": "stream",
     "text": [
      "this is the accuracy score given by SVM 0.8880706921944035\n"
     ]
    }
   ],
   "source": [
    "print(\"this is the accuracy score given by SVM\",accuracy_score(Y_test['Subscription'],Y_test['Predicted']))\n",
    "print('the accuracy of model by random forest',accuracy_score(y_test['Subscription'],y_test['Predicted']))"
   ]
  },
  {
   "cell_type": "code",
   "execution_count": 22,
   "id": "e6684b95",
   "metadata": {},
   "outputs": [],
   "source": [
    "## accuracy is different in both the models bcoz in both the models we use different techniques in random forest we made \n",
    "## 10000 randomy datasets from our train data to test our data and in SVM we make hyperplane or seperate our data and used \n",
    "## Euclidean distance formula.\n"
   ]
  },
  {
   "cell_type": "code",
   "execution_count": 23,
   "id": "fbf9a555",
   "metadata": {},
   "outputs": [],
   "source": [
    "## for analyse, if our model how much it is efficient we can use accuracy score but if we want much more from it like F-1 score\n",
    "## precisson, recall than we can use classification report and confussion matrix"
   ]
  },
  {
   "cell_type": "code",
   "execution_count": null,
   "id": "01bc8f85",
   "metadata": {},
   "outputs": [],
   "source": []
  },
  {
   "cell_type": "code",
   "execution_count": null,
   "id": "e7b9e158",
   "metadata": {},
   "outputs": [],
   "source": []
  }
 ],
 "metadata": {
  "kernelspec": {
   "display_name": "Python 3 (ipykernel)",
   "language": "python",
   "name": "python3"
  },
  "language_info": {
   "codemirror_mode": {
    "name": "ipython",
    "version": 3
   },
   "file_extension": ".py",
   "mimetype": "text/x-python",
   "name": "python",
   "nbconvert_exporter": "python",
   "pygments_lexer": "ipython3",
   "version": "3.9.7"
  }
 },
 "nbformat": 4,
 "nbformat_minor": 5
}
